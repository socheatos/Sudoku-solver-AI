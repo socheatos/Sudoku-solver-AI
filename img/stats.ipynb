{
 "cells": [
  {
   "cell_type": "code",
   "execution_count": 1,
   "metadata": {},
   "outputs": [],
   "source": [
    "import matplotlib.pyplot as plt \n",
    "import numpy as np"
   ]
  },
  {
   "cell_type": "code",
   "execution_count": 2,
   "metadata": {},
   "outputs": [],
   "source": [
    "#stats\n",
    "txt = 'running_time.txt'\n",
    "srcfile = open(txt, \"r\")\n",
    "txt = srcfile.read()\n",
    "time = []\n",
    "\n",
    "for line in txt.split(\"\\n\")[:-1]:\n",
    "    time.append(float(line))"
   ]
  },
  {
   "cell_type": "code",
   "execution_count": 5,
   "metadata": {},
   "outputs": [
    {
     "data": {
      "image/png": "[encoded data removed]",
      "text/plain": [
       "<Figure size 432x288 with 1 Axes>"
      ]
     },
     "metadata": {
      "needs_background": "light"
     },
     "output_type": "display_data"
    }
   ],
   "source": [
    "fig = plt.figure()\n",
    "ax = fig.add_axes([0,0,1,1])\n",
    "x_axis = np.linspace(0,400,400)\n",
    "y_axis = nptime= np.array(time)\n",
    "ax.bar(x_axis,y_axis,width=1)\n",
    "ax.set_xlabel('Sudoku Puzzle ID')\n",
    "ax.set_ylabel('Time to complete assignment (s)')\n",
    "plt.show()"
   ]
  },
  {
   "cell_type": "code",
   "execution_count": 12,
   "metadata": {},
   "outputs": [
    {
     "name": "stdout",
     "output_type": "stream",
     "text": [
      "Total time: 61.125 seconds\n",
      "Average time: 0.1528125 seconds\n",
      "Standard deviation: 0.11115361871358484 seconds\n",
      "Min time: 0.046875 seconds\n",
      "Max time: 1.015625 seconds\n"
     ]
    }
   ],
   "source": [
    "print('Total time:', nptime.sum(),'seconds')\n",
    "print('Average time:', nptime.mean(),'seconds')\n",
    "print('Standard deviation:',nptime.std(),'seconds')\n",
    "print('Min time:',nptime.min(),'seconds')\n",
    "print('Max time:', nptime.max(),'seconds')\n"
   ]
  },
  {
   "cell_type": "code",
   "execution_count": null,
   "metadata": {},
   "outputs": [],
   "source": []
  }
 ],
 "metadata": {
  "interpreter": {
   "hash": "1f220230e99062a38b00f7a0218e5cc1e34c964c0a9476e24ec491217673ae51"
  },
  "kernelspec": {
   "display_name": "Python 3.7.11 ('base')",
   "language": "python",
   "name": "python3"
  },
  "language_info": {
   "codemirror_mode": {
    "name": "ipython",
    "version": 3
   },
   "file_extension": ".py",
   "mimetype": "text/x-python",
   "name": "python",
   "nbconvert_exporter": "python",
   "pygments_lexer": "ipython3",
   "version": "3.7.11"
  },
  "orig_nbformat": 4
 },
 "nbformat": 4,
 "nbformat_minor": 2
}
